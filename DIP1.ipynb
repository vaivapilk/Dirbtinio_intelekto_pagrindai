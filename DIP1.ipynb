{
  "nbformat": 4,
  "nbformat_minor": 0,
  "metadata": {
    "colab": {
      "provenance": []
    },
    "kernelspec": {
      "name": "python3",
      "display_name": "Python 3"
    },
    "language_info": {
      "name": "python"
    }
  },
  "cells": [
    {
      "cell_type": "code",
      "source": [
        "import numpy as np\n",
        "import random\n",
        "import pandas as pd"
      ],
      "metadata": {
        "id": "ipkkXOZMLu63"
      },
      "execution_count": null,
      "outputs": []
    },
    {
      "cell_type": "code",
      "execution_count": null,
      "metadata": {
        "colab": {
          "base_uri": "https://localhost:8080/"
        },
        "id": "AE_Dj7kUK1OP",
        "outputId": "884ef921-ffe5-40b0-8c6d-0e174528eba6"
      },
      "outputs": [
        {
          "output_type": "stream",
          "name": "stdout",
          "text": [
            "    x1   x2  klase\n",
            "0 -0.2  0.5      0\n",
            "1  0.2 -0.7      0\n",
            "2  0.8 -0.8      1\n",
            "3  0.8  1.0      1\n"
          ]
        }
      ],
      "source": [
        "duomenys =np.array([[-0.2, 0.5],[0.2, -0.7],[0.8, -0.8],[0.8,1]])\n",
        "klase = np.array([0,0,1,1])\n",
        "df = pd.DataFrame(duomenys, columns=['x1', 'x2'])\n",
        "df['klase'] = klase\n",
        "print(df)"
      ]
    },
    {
      "cell_type": "code",
      "source": [
        "def slenkstine_funkc(suma):\n",
        "  if suma >= 0:\n",
        "    return 1\n",
        "  return 0\n",
        "\n",
        "def sigmoidine_funkc(suma):\n",
        "  f = 1/(1+np.exp(-suma))\n",
        "  if f >= 0.5:\n",
        "    return 1\n",
        "  return 0\n",
        "\n",
        "def svoriu_parinkimas(N, aktyvacijos_funkc, duomenys, klase):\n",
        "  for i in range(N):\n",
        "    tinka = True\n",
        "    svoriai = np.round(np.random.uniform(-10, 10, 3), 4).tolist()\n",
        "    for j in range(len(klase)):\n",
        "      suma = svoriai[0]*duomenys[j][0] + svoriai[1]*duomenys[j][1] + svoriai[2]\n",
        "      isejimas = aktyvacijos_funkc(suma)\n",
        "      if isejimas != klase[j]: tinka = False\n",
        "\n",
        "    if tinka: return svoriai\n",
        "  return \"Parinkite didesni N skaiciu\"\n",
        "\n",
        "def rinkiniai(funkc):\n",
        "  if funkc == \"SL\":\n",
        "    for i in range(10):\n",
        "      print(svoriu_parinkimas(1000, slenkstine_funkc, duomenys, klase))\n",
        "\n",
        "  if funkc == \"SG\":\n",
        "    for i in range(10):\n",
        "      print(svoriu_parinkimas(1000, sigmoidine_funkc, duomenys, klase))\n",
        "\n",
        "  return \"\\nRinkiniai rasti\""
      ],
      "metadata": {
        "id": "3x2ewgzjMgCL"
      },
      "execution_count": null,
      "outputs": []
    },
    {
      "cell_type": "markdown",
      "source": [
        "### Tikrinu, kaip veikia aktyvacijos funkcija"
      ],
      "metadata": {
        "id": "dQAfN0kEWVYv"
      }
    },
    {
      "cell_type": "code",
      "source": [
        "N = 1\n",
        "for i in range(N):\n",
        "  tinka = True\n",
        "  svoriai = np.round(np.random.uniform(-10, 10, 3), 4).tolist()\n",
        "  print(f\"Svoriai: {svoriai}\\n\")\n",
        "  for j in range(len(klase)):\n",
        "    suma = svoriai[0]*duomenys[j][0] + svoriai[1]*duomenys[j][1] + svoriai[2]\n",
        "    print(f\"I aktyvacijos funkcija perduodama suma: {suma}\")\n",
        "    isejimas = sigmoidine_funkc(suma)\n",
        "    if isejimas != klase[j]: tinka = False\n",
        "    print(f\"Tikroji klase: {klase[j]}, gautoji: {isejimas}\")\n",
        "  print(f\"\\nAr tinkamai klasifikuojama naudojant siuos svorius? {tinka}\")"
      ],
      "metadata": {
        "colab": {
          "base_uri": "https://localhost:8080/"
        },
        "id": "9Talt4v-PnvW",
        "outputId": "241d23be-b9cf-4eed-90db-c473b431bd7e"
      },
      "execution_count": null,
      "outputs": [
        {
          "output_type": "stream",
          "name": "stdout",
          "text": [
            "Svoriai: [9.3233, -8.1631, 6.5187]\n",
            "\n",
            "I aktyvacijos funkcija perduodama suma: 0.5724900000000002\n",
            "Tikroji klase: 0, gautoji: 1\n",
            "I aktyvacijos funkcija perduodama suma: 14.097529999999999\n",
            "Tikroji klase: 0, gautoji: 1\n",
            "I aktyvacijos funkcija perduodama suma: 20.50782\n",
            "Tikroji klase: 1, gautoji: 1\n",
            "I aktyvacijos funkcija perduodama suma: 5.81424\n",
            "Tikroji klase: 1, gautoji: 1\n",
            "\n",
            "Ar tinkamai klasifikuojama naudojant siuos svorius? False\n"
          ]
        }
      ]
    },
    {
      "cell_type": "code",
      "source": [
        "funkc = input(\"Pasirinkite aktyvacijos funkcija SL (slenkstine) arba SG (sigmoidine)): \")\n",
        "print(\"10 svoriu ir poslinkio rinkiniu:\\n\")\n",
        "print(rinkiniai(funkc))"
      ],
      "metadata": {
        "colab": {
          "base_uri": "https://localhost:8080/"
        },
        "id": "nNCbDx_Df25A",
        "outputId": "36f6470a-bc9d-4159-80fd-7b33f3640753"
      },
      "execution_count": null,
      "outputs": [
        {
          "output_type": "stream",
          "name": "stdout",
          "text": [
            "Pasirinkite aktyvacijos funkcija SL (slenkstine) arba SG (sigmoidine)): SL\n",
            "10 svoriu ir poslinkio rinkiniu:\n",
            "\n",
            "[9.4368, 1.5373, -5.7101]\n",
            "[3.182, 0.1373, -0.9564]\n",
            "[6.7616, -0.2731, -3.3381]\n",
            "[8.4533, 0.9322, -2.9672]\n",
            "[6.4618, 0.1494, -3.7101]\n",
            "[7.4173, -0.0383, -3.7279]\n",
            "[1.0495, 0.3056, -0.1636]\n",
            "[4.3542, 0.6124, -2.9247]\n",
            "[6.777, 2.5795, -0.2484]\n",
            "[3.5776, 1.8885, -0.5235]\n",
            "\n",
            "Rinkiniai rasti\n"
          ]
        }
      ]
    },
    {
      "cell_type": "code",
      "source": [
        "funkc = input(\"Pasirinkite aktyvacijos funkcija SL (slenkstine) arba SG (sigmoidine)): \")\n",
        "print(\"10 svoriu ir poslinkio rinkiniu:\\n\")\n",
        "print(rinkiniai(funkc))"
      ],
      "metadata": {
        "colab": {
          "base_uri": "https://localhost:8080/"
        },
        "id": "aAERGb2ZhixJ",
        "outputId": "950f23bb-5639-4667-8d44-2d3cf4678346"
      },
      "execution_count": null,
      "outputs": [
        {
          "output_type": "stream",
          "name": "stdout",
          "text": [
            "Pasirinkite aktyvacijos funkcija SL (slenkstine) arba SG (sigmoidine)): SG\n",
            "10 svoriu ir poslinkio rinkiniu:\n",
            "\n",
            "[6.9521, 0.0899, -3.3685]\n",
            "[9.4989, 5.2933, -1.0334]\n",
            "[6.6099, -1.0451, -2.9571]\n",
            "[5.4809, 3.4128, -1.4892]\n",
            "[6.516, -0.0123, -2.9454]\n",
            "[9.4821, -1.6234, -4.4732]\n",
            "[9.7355, 2.7018, -2.5941]\n",
            "[6.1982, -0.22, -1.7998]\n",
            "[6.1429, 0.4445, -1.8003]\n",
            "[4.522, 1.619, -1.9219]\n",
            "\n",
            "Rinkiniai rasti\n"
          ]
        }
      ]
    }
  ]
}